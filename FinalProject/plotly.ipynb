{
 "cells": [
  {
   "cell_type": "code",
   "execution_count": 3,
   "metadata": {},
   "outputs": [],
   "source": [
    "import pandas as pd\n",
    "import numpy as np\n",
    "import plotly.express as px"
   ]
  },
  {
   "cell_type": "code",
   "execution_count": 7,
   "metadata": {},
   "outputs": [
    {
     "data": {
      "text/plain": [
       "Index(['GO accession', 'GO term', 'CLIP-seq number of valid members',\n",
       "       'CLIP-seq FDR', 'CLIP-seq log2 enrichment',\n",
       "       'RPF\\nnumber of valid members', 'RPF\\nFDR',\n",
       "       'RPF\\nRibosome density change (log2)',\n",
       "       'RNA-seq number of valid members', 'RNA-seq FDR',\n",
       "       'RNA-seq mRNA abundance change (log2)'],\n",
       "      dtype='object')"
      ]
     },
     "execution_count": 7,
     "metadata": {},
     "output_type": "execute_result"
    }
   ],
   "source": [
    "hysikDB = pd.read_csv(\"/home/imgyuri/BIOINFO1/exp_Go_data.csv\")\n",
    "hysikDB.columns"
   ]
  },
  {
   "cell_type": "code",
   "execution_count": 9,
   "metadata": {},
   "outputs": [],
   "source": [
    "filtered_hysikDB = hysikDB.dropna(axis=0)\n",
    "filtered_hysikDB = filtered_hysikDB[(filtered_hysikDB['CLIP-seq FDR'] <= 0.05) & (filtered_hysikDB['RPF\\nFDR'] <= 0.05)]"
   ]
  },
  {
   "cell_type": "code",
   "execution_count": 11,
   "metadata": {},
   "outputs": [
    {
     "ename": "SyntaxError",
     "evalue": "invalid syntax (3068032373.py, line 3)",
     "output_type": "error",
     "traceback": [
      "\u001b[0;36m  Cell \u001b[0;32mIn[11], line 3\u001b[0;36m\u001b[0m\n\u001b[0;31m    fig.update_layout(xaxis=)\u001b[0m\n\u001b[0m                            ^\u001b[0m\n\u001b[0;31mSyntaxError\u001b[0m\u001b[0;31m:\u001b[0m invalid syntax\n"
     ]
    }
   ],
   "source": [
    "fig=px.scatter(filtered_hysikDB, x='CLIP-seq log2 enrichment', y=\"RPF\\nRibosome density change (log2)\", size=\"CLIP-seq number of valid members\", color = 'CLIP-seq FDR')\n",
    "\n",
    "fig.update_xaxes(range=[-2.0, 5.0], tickvals=list(range(-2, 6)), tickmode=\"linear\", dtick=0.5, title_text='Enrichment level of LIN28A-bound CLIP tags (<i>log</i><sub>2</sub>)')\n",
    "fig.update_yaxes(range=[-1.0, 1.5], tickvals=[-1.0, -0.5, 0.0, 0.5, 1.0, 1.5], tickmode=\"linear\", dtick=0.5, title_text='Ribisome density change upon <i>Lin28a</i> knockdown (<i>log</i><sub>2</sub>)')"
   ]
  },
  {
   "cell_type": "code",
   "execution_count": null,
   "metadata": {},
   "outputs": [],
   "source": []
  }
 ],
 "metadata": {
  "kernelspec": {
   "display_name": "chem",
   "language": "python",
   "name": "python3"
  },
  "language_info": {
   "codemirror_mode": {
    "name": "ipython",
    "version": 3
   },
   "file_extension": ".py",
   "mimetype": "text/x-python",
   "name": "python",
   "nbconvert_exporter": "python",
   "pygments_lexer": "ipython3",
   "version": "3.11.5"
  }
 },
 "nbformat": 4,
 "nbformat_minor": 2
}
