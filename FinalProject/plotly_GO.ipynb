{
 "cells": [
  {
   "cell_type": "code",
   "execution_count": 2,
   "metadata": {},
   "outputs": [],
   "source": [
    "import pandas as pd\n",
    "import pickle\n",
    "import numpy as np\n",
    "import plotly.express as px"
   ]
  },
  {
   "cell_type": "code",
   "execution_count": 3,
   "metadata": {},
   "outputs": [
    {
     "name": "stdout",
     "output_type": "stream",
     "text": [
      "       GOterm  GeneNumber       ClipPval  ClipFoldChange     RNAdenPval  \\\n",
      "0  GO:0005634        2741   3.243718e-12       -0.330358  1.238783e-110   \n",
      "1  GO:0005737        2589   9.917849e-17       -0.309420   2.110516e-77   \n",
      "2  GO:0016020        1507   1.073162e-59        0.635663  8.458918e-200   \n",
      "3  GO:0016021        1307  2.094352e-122        0.932191   0.000000e+00   \n",
      "4  GO:0000166        1168   2.729137e-02       -0.084324   5.617830e-30   \n",
      "5  GO:0005739         910   1.567666e-04       -0.279657   1.329863e-03   \n",
      "6  GO:0005886         766   2.745082e-10        0.390605   6.066301e-19   \n",
      "7  GO:0003677         688   2.522728e-03       -0.287970   2.245808e-29   \n",
      "8  GO:0005783         510   1.311150e-36        0.830254   1.426313e-86   \n",
      "9  GO:0005829         486   1.529188e-08       -0.430284   3.304010e-11   \n",
      "\n",
      "   RNAdenFoldChange  \n",
      "0         -0.353345  \n",
      "1         -0.296261  \n",
      "2          0.510233  \n",
      "3          0.726462  \n",
      "4         -0.238740  \n",
      "5          0.026959  \n",
      "6          0.246381  \n",
      "7         -0.315837  \n",
      "8          0.515140  \n",
      "9         -0.230930  \n",
      "59\n"
     ]
    }
   ],
   "source": [
    "statistics_db = pd.read_parquet(\"/home/imgyuri/BIOINFO1/Bioinfo1_Labsession/FinalProject/Statistics_result.parquet\")\n",
    "statistics_db = statistics_db.reset_index(drop=True)\n",
    "\n",
    "print(statistics_db.head(10))\n",
    "print(len(statistics_db))\n"
   ]
  },
  {
   "cell_type": "code",
   "execution_count": 4,
   "metadata": {},
   "outputs": [
    {
     "name": "stdout",
     "output_type": "stream",
     "text": [
      "57\n"
     ]
    },
    {
     "name": "stderr",
     "output_type": "stream",
     "text": [
      "/tmp/ipykernel_78453/4179151703.py:2: SettingWithCopyWarning: \n",
      "A value is trying to be set on a copy of a slice from a DataFrame.\n",
      "Try using .loc[row_indexer,col_indexer] = value instead\n",
      "\n",
      "See the caveats in the documentation: https://pandas.pydata.org/pandas-docs/stable/user_guide/indexing.html#returning-a-view-versus-a-copy\n",
      "  GOResultToPlot['log_ClipPval'] = np.log10(GOResultToPlot['ClipPval'])\n",
      "/home/imgyuri/miniconda3/envs/chem/lib/python3.11/site-packages/pandas/core/arraylike.py:396: RuntimeWarning: divide by zero encountered in log10\n",
      "  result = getattr(ufunc, method)(*inputs, **kwargs)\n",
      "/tmp/ipykernel_78453/4179151703.py:3: SettingWithCopyWarning: \n",
      "A value is trying to be set on a copy of a slice from a DataFrame.\n",
      "Try using .loc[row_indexer,col_indexer] = value instead\n",
      "\n",
      "See the caveats in the documentation: https://pandas.pydata.org/pandas-docs/stable/user_guide/indexing.html#returning-a-view-versus-a-copy\n",
      "  GOResultToPlot['log_RNAdenPval'] = np.log10(GOResultToPlot['RNAdenPval'])\n"
     ]
    }
   ],
   "source": [
    "GOResultToPlot = statistics_db[(statistics_db['ClipPval'] <= 0.05) & (statistics_db['RNAdenPval'] <= 0.05) & (statistics_db['GeneNumber']>=10)]\n",
    "GOResultToPlot['log_ClipPval'] = np.log10(GOResultToPlot['ClipPval'])\n",
    "GOResultToPlot['log_RNAdenPval'] = np.log10(GOResultToPlot['RNAdenPval'])\n",
    "print(len(GOResultToPlot))"
   ]
  },
  {
   "cell_type": "code",
   "execution_count": 5,
   "metadata": {},
   "outputs": [],
   "source": [
    "GOResultToPlot.to_csv(\"/home/imgyuri/BIOINFO1/Bioinfo1_Labsession/FinalProject/GOresultToPlot_filter_controlonly.csv\")"
   ]
  },
  {
   "cell_type": "code",
   "execution_count": 6,
   "metadata": {},
   "outputs": [],
   "source": [
    "GO_Notinterest = {\n",
    "    'GO:0005829': 'cytosol',\n",
    "    'GO:0005654' : 'nucleoplasm',\n",
    "    'GO:0005886' : 'plasma membrane',\n",
    "    'GO:0016020' : 'membrane',\n",
    "    'GO:0016021' : 'membrane'\n",
    "   # 'GO:0005789' : 'endoplasmic reticulum membrane', # exclude outlier\n",
    "}\n",
    "# Exclude GO terms that are not interesting(GO_Notinterest.keys()) in GOResultToPlot['GOTerm']\n",
    "GOResultToPlot = GOResultToPlot[~GOResultToPlot['GOterm'].isin(GO_Notinterest.keys())]\n",
    "GOResultToPlot.sort_values(by='GeneNumber', ascending=True, inplace=True)"
   ]
  },
  {
   "cell_type": "code",
   "execution_count": 7,
   "metadata": {},
   "outputs": [],
   "source": [
    "GOtoAnnotate = {\n",
    "    'GO:0005783': 'endoplasmic reticulum',\n",
    "    'GO:0005788': 'endoplasmic reticulum lumen',\n",
    "    'GO:0005789': 'endoplasmic reticulum membrane',\n",
    "    'GO:0005794': 'Golgi apparatus',\n",
    "    'GO:0009986': 'cell surface',\n",
    "    'GO:0005739': 'mitochondrion',\n",
    "    'GO:0005509': 'calcium ion binding',\n",
    "    'GO:0005634': 'nucleus',\n",
    "    'GO:0005737': 'cytoplasm',\n",
    "    'GO:0005576': 'extracellular region',\n",
    "    'GO:0016020': 'membrane',\n",
    "    'GO:0005576': 'extracellular region',\n",
    "    'GO:0030203':'glycosaminoglycan metabolic process',\n",
    "    'GO:0006334': 'nucleosome assembly',\n",
    "    'GO:0000786': 'nucleosome',\n",
    "}"
   ]
  },
  {
   "cell_type": "code",
   "execution_count": 8,
   "metadata": {},
   "outputs": [
    {
     "name": "stdout",
     "output_type": "stream",
     "text": [
      "        GOterm  GeneNumber      ClipPval  ClipFoldChange     RNAdenPval  \\\n",
      "32  GO:0005788          46  1.035078e-12        1.243625   4.349346e-14   \n",
      "23  GO:0009986          88  7.156970e-12        1.012361   4.000938e-16   \n",
      "16  GO:0005509         177  3.403011e-06        0.610236   8.109868e-08   \n",
      "13  GO:0005576         226  1.995155e-12        0.602593   8.416354e-48   \n",
      "11  GO:0005789         292  1.453983e-27        0.926719   3.682884e-62   \n",
      "10  GO:0005794         453  1.224669e-08        0.369477   1.414970e-13   \n",
      "8   GO:0005783         510  1.311150e-36        0.830254   1.426313e-86   \n",
      "5   GO:0005739         910  1.567666e-04       -0.279657   1.329863e-03   \n",
      "1   GO:0005737        2589  9.917849e-17       -0.309420   2.110516e-77   \n",
      "0   GO:0005634        2741  3.243718e-12       -0.330358  1.238783e-110   \n",
      "\n",
      "    RNAdenFoldChange  log_ClipPval  log_RNAdenPval  \n",
      "32          0.660972    -11.985027      -13.361576  \n",
      "23          0.530367    -11.145271      -15.397838  \n",
      "16          0.267299     -5.468137       -7.090986  \n",
      "13          0.565852    -11.700023      -47.074876  \n",
      "11          0.556045    -26.837441      -61.433812  \n",
      "10          0.248002     -7.911981      -12.849253  \n",
      "8           0.515140    -35.882348      -85.845785  \n",
      "5           0.026959     -3.804746       -2.876193  \n",
      "1          -0.296261    -16.003582      -76.675611  \n",
      "0          -0.353345    -11.488957     -109.907005  \n"
     ]
    }
   ],
   "source": [
    "Interest_df = GOResultToPlot[GOResultToPlot['GOterm'].isin(GOtoAnnotate.keys())]\n",
    "print(Interest_df)"
   ]
  },
  {
   "cell_type": "code",
   "execution_count": 9,
   "metadata": {},
   "outputs": [],
   "source": [
    "# Interest_df = GOResultToPlot[GOResultToPlot['GOterm'].isin(GOtoAnnotate.keys())]\n",
    "# print(Interest_df)"
   ]
  },
  {
   "cell_type": "code",
   "execution_count": 10,
   "metadata": {},
   "outputs": [],
   "source": [
    "def format_number_scientific(num):\n",
    "    base, exponent = f\"{num:.1e}\".split('e')\n",
    "    exponent = int(exponent)\n",
    "    # Convert the exponent to superscript\n",
    "    superscript_map = str.maketrans('-0123456789', '⁻⁰¹²³⁴⁵⁶⁷⁸⁹')\n",
    "    exponent_str = str(exponent).translate(superscript_map)\n",
    "    return f\"{base}x10{exponent_str}\"\n"
   ]
  },
  {
   "cell_type": "code",
   "execution_count": 81,
   "metadata": {},
   "outputs": [],
   "source": [
    "ax_ay = {'GO:0005788': [150, -30], \n",
    "                  'GO:0009986': [230, 100], \n",
    "                  'GO:0005509': [80, 56], \n",
    "                  'GO:0005576': [-100, -60], \n",
    "                  'GO:0005789': [200, 25], \n",
    "                  'GO:0005794': [40, 100], \n",
    "                  'GO:0005783': [30, -70], \n",
    "                  'GO:0005739': [-70, -50], \n",
    "                  'GO:0005737': [-80, -30], \n",
    "                  'GO:0005634': [-30, 50]}"
   ]
  },
  {
   "cell_type": "code",
   "execution_count": 84,
   "metadata": {},
   "outputs": [
    {
     "data": {
      "application/vnd.plotly.v1+json": {
       "config": {
        "plotlyServerURL": "https://plot.ly"
       },
       "data": [
        {
         "customdata": [
          [
           "GO:0019838",
           10,
           0.002835851364619815,
           0.0025634108123471985
          ],
          [
           "GO:0005201",
           10,
           0.031369077088533814,
           0.0037468808352150514
          ],
          [
           "GO:0006665",
           10,
           0.021660574274169717,
           0.0067813761514615946
          ],
          [
           "GO:0015662",
           13,
           0.023762314720386625,
           0.013684735068390151
          ],
          [
           "GO:0006486",
           15,
           0.026696098728846582,
           0.0014400588646336873
          ],
          [
           "GO:0006754",
           15,
           0.009923195186557673,
           0.010603237673022818
          ],
          [
           "GO:0051258",
           15,
           0.010255393936595955,
           0.04393250996878614
          ],
          [
           "GO:0016616",
           15,
           0.02179351436397502,
           0.02179351436397502
          ],
          [
           "GO:0008652",
           18,
           0.029338293159480087,
           0.029042483797370254
          ],
          [
           "GO:0007156",
           19,
           0.00392890685350869,
           0.00014893515785771978
          ],
          [
           "GO:0001503",
           20,
           0.038321645761474184,
           0.0009146241338106816
          ],
          [
           "GO:0005178",
           21,
           0.03464123916037985,
           0.0004656364394510715
          ],
          [
           "GO:0006096",
           23,
           0.00004789469673212262,
           0.003500457042075249
          ],
          [
           "GO:0006812",
           24,
           0.0024272593697933077,
           0.0000018128749128506143
          ],
          [
           "GO:0005793",
           26,
           0.0018239159474445514,
           0.0018515738995493834
          ],
          [
           "GO:0004930",
           27,
           0.03459238387010844,
           4.544117877203594e-9
          ],
          [
           "GO:0006814",
           29,
           0.014342893225383638,
           8.858986147420574e-11
          ],
          [
           "GO:0008201",
           29,
           0.003180248135250891,
           0.00011785202399621616
          ],
          [
           "GO:0004222",
           29,
           0.00676714980059976,
           0.0035843093315665723
          ],
          [
           "GO:0030176",
           30,
           0.0002878959986047367,
           4.263002029203049e-9
          ],
          [
           "GO:0032580",
           30,
           0.019491573358511184,
           0.00003282317862521953
          ],
          [
           "GO:0005604",
           33,
           0.009720427610265814,
           5.532180068571042e-7
          ],
          [
           "GO:0009897",
           37,
           0.0000016099708214084897,
           1.791517286796281e-9
          ],
          [
           "GO:0045454",
           40,
           0.013940200979904149,
           0.0014723634027862798
          ],
          [
           "GO:0005788",
           46,
           1.0350777738402807e-12,
           4.349345579889208e-14
          ],
          [
           "GO:0016323",
           46,
           0.00010223495763897726,
           0.000002013631051687639
          ],
          [
           "GO:0045121",
           47,
           0.01276721055088732,
           0.0196803547705803
          ],
          [
           "GO:0016829",
           52,
           0.03312667239796982,
           0.0021539028049317914
          ],
          [
           "GO:0005765",
           61,
           0.0008046697440959152,
           5.805036626721339e-14
          ],
          [
           "GO:0016757",
           61,
           0.0000064787902207756325,
           1.4771950178106133e-8
          ],
          [
           "GO:0042470",
           67,
           0.00566365508591457,
           0.04887241963729265
          ],
          [
           "GO:0016324",
           69,
           0.007028072309057544,
           0.000012967880460079285
          ],
          [
           "GO:0005887",
           70,
           0.000004483382854622756,
           8.372888618378553e-17
          ],
          [
           "GO:0009986",
           88,
           7.1569700406311334e-12,
           4.0009383955842254e-16
          ],
          [
           "GO:0055085",
           97,
           0.038321645761474184,
           9.697610264581627e-20
          ],
          [
           "GO:0005792",
           97,
           0.000002290976741886095,
           7.392352941109537e-9
          ],
          [
           "GO:0005615",
           115,
           0.00026781661978260624,
           1.0823899986055902e-20
          ],
          [
           "GO:0006811",
           120,
           0.00020656675113176796,
           2.2433168815582493e-18
          ],
          [
           "GO:0007155",
           120,
           0.000011596438234852252,
           4.884511180318735e-10
          ],
          [
           "GO:0005624",
           145,
           0.00012615458259592543,
           6.551688788193894e-7
          ],
          [
           "GO:0005509",
           177,
           0.0000034030114025391186,
           8.109867646443444e-8
          ],
          [
           "GO:0000139",
           177,
           3.118308670557504e-9,
           1.3361970353062207e-16
          ],
          [
           "GO:0004872",
           224,
           2.2343637619365836e-13,
           1.5044412206741527e-30
          ],
          [
           "GO:0005576",
           226,
           1.9951546056706586e-12,
           8.416353883740591e-48
          ],
          [
           "GO:0005789",
           292,
           1.4539832445411611e-27,
           3.6828844627680426e-62
          ],
          [
           "GO:0005794",
           453,
           1.2246689917221959e-8,
           1.414970179974938e-13
          ],
          [
           "GO:0005783",
           510,
           1.3111502466550327e-36,
           1.4263134885819737e-86
          ],
          [
           "GO:0003677",
           688,
           0.002522727964917418,
           2.2458079859935045e-29
          ],
          [
           "GO:0005739",
           910,
           0.00015676661639646848,
           0.0013298632902283627
          ],
          [
           "GO:0000166",
           1168,
           0.027291372957309577,
           5.617830332943733e-30
          ],
          [
           "GO:0005737",
           2589,
           9.917849197021433e-17,
           2.1105160535966086e-77
          ],
          [
           "GO:0005634",
           2741,
           3.2437177253960997e-12,
           1.2387830087677922e-110
          ]
         ],
         "hovertemplate": "ClipFoldChange=%{x}<br>RNAdenFoldChange=%{y}<br>GeneNumber=%{customdata[1]}<br>GOterm=%{customdata[0]}<br>ClipPval=%{customdata[2]}<br>RNAdenPval=%{customdata[3]}<br>log_ClipPval=%{marker.color}<extra></extra>",
         "legendgroup": "",
         "marker": {
          "color": [
           -2.547316535554228,
           -1.5034982585178494,
           -1.6643300333618145,
           -1.6241112563959335,
           -1.573552200220735,
           -2.003348466105855,
           -1.989047652584362,
           -1.6616727309371262,
           -1.5325651561022002,
           -2.4057282673161424,
           -1.416555847981311,
           -1.4604065811209233,
           -4.319712572336655,
           -2.6148838137581154,
           -2.7389951793859555,
           -1.4610195083539559,
           -1.843363234645923,
           -2.497538993359578,
           -2.169594209676752,
           -3.540764371231537,
           -1.710153103245605,
           -2.012314629652528,
           -5.793181994909836,
           -1.8557309648438818,
           -11.9850270168924,
           -3.9904005786259202,
           -1.8939039793762702,
           -1.4798221871720991,
           -3.0943823280122027,
           -5.1885060820140065,
           -2.246903202854506,
           -2.1531637788695237,
           -5.348394173346896,
           -11.14527080075669,
           -1.416555847981311,
           -5.639979319768176,
           -3.572162475658912,
           -3.6849395809870247,
           -4.935675380814292,
           -3.8990969690070836,
           -5.46813659570245,
           -8.506080897715213,
           -12.650846120861742,
           -11.700023444945632,
           -26.837440598184852,
           -7.9119812782334105,
           -35.88234753900828,
           -2.598129578537097,
           -3.804746415238349,
           -1.563974615565543,
           -16.00358249953345,
           -11.488956945964187
          ],
          "coloraxis": "coloraxis",
          "size": [
           10,
           10,
           10,
           13,
           15,
           15,
           15,
           15,
           18,
           19,
           20,
           21,
           23,
           24,
           26,
           27,
           29,
           29,
           29,
           30,
           30,
           33,
           37,
           40,
           46,
           46,
           47,
           52,
           61,
           61,
           67,
           69,
           70,
           88,
           97,
           97,
           115,
           120,
           120,
           145,
           177,
           177,
           224,
           226,
           292,
           453,
           510,
           688,
           910,
           1168,
           2589,
           2741
          ],
          "sizemode": "area",
          "sizeref": 1.713125,
          "symbol": "circle"
         },
         "mode": "markers",
         "name": "",
         "orientation": "v",
         "showlegend": false,
         "type": "scatter",
         "x": [
          1.604252851134033,
          1.1850273550525248,
          1.311943452752376,
          1.1721024661642632,
          0.8516269789982561,
          1.1781998839465948,
          -1.3745934766441255,
          -1.3723244702834791,
          -1.2324071607636258,
          1.143948344921576,
          0.9101470234054707,
          0.8948946958191439,
          -1.59330708600069,
          1.0493164256698915,
          0.9314766943155285,
          0.5202275725571939,
          0.7414444978708142,
          0.6379543356572106,
          0.7270652488348928,
          1.1243718366332631,
          0.7864194533233374,
          0.5734824358178058,
          1.0258277084549199,
          0.7816551026668269,
          1.2436252377566421,
          0.8338472778635233,
          0.5690757171684333,
          -0.46592465149674217,
          0.5706972713683345,
          0.7452594304281841,
          0.6043925679026203,
          0.65727672722645,
          0.7152561682050631,
          1.012361002883993,
          0.5407024614100624,
          0.9399488840781629,
          0.41646578015389846,
          0.6055513103136005,
          0.6495391166497322,
          0.4443138647717032,
          0.6102361519796742,
          0.502806143645671,
          0.7601987828669594,
          0.6025931341885622,
          0.926718743496073,
          0.369476899801102,
          0.8302542717475261,
          -0.28796968661854955,
          -0.27965660036828294,
          -0.08432406778464821,
          -0.309420489895797,
          -0.3303580702314047
         ],
         "xaxis": "x",
         "y": [
          0.8156987245009455,
          0.8158216521533858,
          0.7509725723063454,
          0.5485267142908727,
          0.6573019625622452,
          0.5136705764650853,
          -0.55864203791517,
          -0.593164999132421,
          -0.5251968341524327,
          0.5528608894932556,
          0.6598802344184317,
          0.566106610147648,
          -0.5571430918710034,
          0.6276209149577503,
          0.4311922436542359,
          0.6934236089445995,
          0.7112447877889647,
          0.4448954980969507,
          0.42270606450356674,
          0.6759396650020755,
          0.5962207706938325,
          0.6148666624283816,
          0.6373533175784702,
          0.4229810407543002,
          0.6609715737242475,
          0.48879891024791317,
          0.3085483076481771,
          -0.3684491531739684,
          0.6587006493910985,
          0.541228883853786,
          0.29271103557644584,
          0.39443495482674745,
          0.6148933621053728,
          0.5303672010991557,
          0.5567202544671359,
          0.35073779821608553,
          0.5117118517659331,
          0.4750111030477483,
          0.4062349734715697,
          0.28313134796638245,
          0.267298767547882,
          0.3791698249534742,
          0.4743251191642228,
          0.5658515839485223,
          0.5560447144263259,
          0.24800197675039093,
          0.5151402799158165,
          -0.3158372341592152,
          0.02695860485175567,
          -0.23874036033662732,
          -0.296260880297681,
          -0.3533451512426976
         ],
         "yaxis": "y"
        }
       ],
       "layout": {
        "annotations": [
         {
          "ax": 150,
          "ay": -30,
          "bordercolor": "black",
          "borderwidth": 1,
          "showarrow": true,
          "text": "endoplasmic reticulum lumen(46)<br> C=1.0x10⁻¹², R=4.3x10⁻¹⁴",
          "x": 1.2436252377566421,
          "y": 0.6609715737242475
         },
         {
          "ax": 230,
          "ay": 100,
          "bordercolor": "black",
          "borderwidth": 1,
          "showarrow": true,
          "text": "cell surface(88)<br> C=7.2x10⁻¹², R=4.0x10⁻¹⁶",
          "x": 1.012361002883993,
          "y": 0.5303672010991557
         },
         {
          "ax": 80,
          "ay": 56,
          "bordercolor": "black",
          "borderwidth": 1,
          "showarrow": true,
          "text": "calcium ion binding(177)<br> C=3.4x10⁻⁶, R=8.1x10⁻⁸",
          "x": 0.6102361519796742,
          "y": 0.267298767547882
         },
         {
          "ax": -100,
          "ay": -60,
          "bordercolor": "black",
          "borderwidth": 1,
          "showarrow": true,
          "text": "extracellular region(226)<br> C=2.0x10⁻¹², R=8.4x10⁻⁴⁸",
          "x": 0.6025931341885622,
          "y": 0.5658515839485223
         },
         {
          "ax": 200,
          "ay": 25,
          "bordercolor": "black",
          "borderwidth": 1,
          "showarrow": true,
          "text": "endoplasmic reticulum membrane(292)<br> C=1.5x10⁻²⁷, R=3.7x10⁻⁶²",
          "x": 0.926718743496073,
          "y": 0.5560447144263259
         },
         {
          "ax": 40,
          "ay": 100,
          "bordercolor": "black",
          "borderwidth": 1,
          "showarrow": true,
          "text": "Golgi apparatus(453)<br> C=1.2x10⁻⁸, R=1.4x10⁻¹³",
          "x": 0.369476899801102,
          "y": 0.24800197675039093
         },
         {
          "ax": 30,
          "ay": -70,
          "bordercolor": "black",
          "borderwidth": 1,
          "showarrow": true,
          "text": "endoplasmic reticulum(510)<br> C=1.3x10⁻³⁶, R=1.4x10⁻⁸⁶",
          "x": 0.8302542717475261,
          "y": 0.5151402799158165
         },
         {
          "ax": -70,
          "ay": -50,
          "bordercolor": "black",
          "borderwidth": 1,
          "showarrow": true,
          "text": "mitochondrion(910)<br> C=1.6x10⁻⁴, R=1.3x10⁻³",
          "x": -0.27965660036828294,
          "y": 0.02695860485175567
         },
         {
          "ax": -80,
          "ay": -30,
          "bordercolor": "black",
          "borderwidth": 1,
          "showarrow": true,
          "text": "cytoplasm(2589)<br> C=9.9x10⁻¹⁷, R=2.1x10⁻⁷⁷",
          "x": -0.309420489895797,
          "y": -0.296260880297681
         },
         {
          "ax": -30,
          "ay": 50,
          "bordercolor": "black",
          "borderwidth": 1,
          "showarrow": true,
          "text": "nucleus(2741)<br> C=3.2x10⁻¹², R=1.2x10⁻¹¹⁰",
          "x": -0.3303580702314047,
          "y": -0.3533451512426976
         }
        ],
        "coloraxis": {
         "colorbar": {
          "len": 1.1,
          "thickness": 20,
          "ticktext": [
           "10<sup>0</sup>",
           "10<sup>-2</sup>",
           "10<sup>-4</sup>",
           "10<sup>-6</sup>",
           "10<sup>-8</sup>",
           "10<sup>-10</sup>",
           "10<sup>-12</sup>",
           "10<sup>-14</sup>",
           "10<sup>-16</sup>",
           "10<sup>-18</sup>",
           "10<sup>-20</sup>"
          ],
          "title": {
           "side": "right",
           "text": "Term-specific enrichment confidence (false discovery rate)"
          }
         },
         "colorscale": [
          [
           0,
           "rgb(128,0,38)"
          ],
          [
           0.125,
           "rgb(189,0,38)"
          ],
          [
           0.25,
           "rgb(227,26,28)"
          ],
          [
           0.375,
           "rgb(252,78,42)"
          ],
          [
           0.5,
           "rgb(253,141,60)"
          ],
          [
           0.625,
           "rgb(254,178,76)"
          ],
          [
           0.75,
           "rgb(254,217,118)"
          ],
          [
           0.875,
           "rgb(255,237,160)"
          ],
          [
           1,
           "rgb(255,255,204)"
          ]
         ]
        },
        "font": {
         "size": 10
        },
        "height": 500,
        "legend": {
         "itemsizing": "constant",
         "tracegroupgap": 0
        },
        "margin": {
         "t": 60
        },
        "template": {
         "data": {
          "bar": [
           {
            "error_x": {
             "color": "rgb(36,36,36)"
            },
            "error_y": {
             "color": "rgb(36,36,36)"
            },
            "marker": {
             "line": {
              "color": "white",
              "width": 0.5
             },
             "pattern": {
              "fillmode": "overlay",
              "size": 10,
              "solidity": 0.2
             }
            },
            "type": "bar"
           }
          ],
          "barpolar": [
           {
            "marker": {
             "line": {
              "color": "white",
              "width": 0.5
             },
             "pattern": {
              "fillmode": "overlay",
              "size": 10,
              "solidity": 0.2
             }
            },
            "type": "barpolar"
           }
          ],
          "carpet": [
           {
            "aaxis": {
             "endlinecolor": "rgb(36,36,36)",
             "gridcolor": "white",
             "linecolor": "white",
             "minorgridcolor": "white",
             "startlinecolor": "rgb(36,36,36)"
            },
            "baxis": {
             "endlinecolor": "rgb(36,36,36)",
             "gridcolor": "white",
             "linecolor": "white",
             "minorgridcolor": "white",
             "startlinecolor": "rgb(36,36,36)"
            },
            "type": "carpet"
           }
          ],
          "choropleth": [
           {
            "colorbar": {
             "outlinewidth": 1,
             "tickcolor": "rgb(36,36,36)",
             "ticks": "outside"
            },
            "type": "choropleth"
           }
          ],
          "contour": [
           {
            "colorbar": {
             "outlinewidth": 1,
             "tickcolor": "rgb(36,36,36)",
             "ticks": "outside"
            },
            "colorscale": [
             [
              0,
              "#440154"
             ],
             [
              0.1111111111111111,
              "#482878"
             ],
             [
              0.2222222222222222,
              "#3e4989"
             ],
             [
              0.3333333333333333,
              "#31688e"
             ],
             [
              0.4444444444444444,
              "#26828e"
             ],
             [
              0.5555555555555556,
              "#1f9e89"
             ],
             [
              0.6666666666666666,
              "#35b779"
             ],
             [
              0.7777777777777778,
              "#6ece58"
             ],
             [
              0.8888888888888888,
              "#b5de2b"
             ],
             [
              1,
              "#fde725"
             ]
            ],
            "type": "contour"
           }
          ],
          "contourcarpet": [
           {
            "colorbar": {
             "outlinewidth": 1,
             "tickcolor": "rgb(36,36,36)",
             "ticks": "outside"
            },
            "type": "contourcarpet"
           }
          ],
          "heatmap": [
           {
            "colorbar": {
             "outlinewidth": 1,
             "tickcolor": "rgb(36,36,36)",
             "ticks": "outside"
            },
            "colorscale": [
             [
              0,
              "#440154"
             ],
             [
              0.1111111111111111,
              "#482878"
             ],
             [
              0.2222222222222222,
              "#3e4989"
             ],
             [
              0.3333333333333333,
              "#31688e"
             ],
             [
              0.4444444444444444,
              "#26828e"
             ],
             [
              0.5555555555555556,
              "#1f9e89"
             ],
             [
              0.6666666666666666,
              "#35b779"
             ],
             [
              0.7777777777777778,
              "#6ece58"
             ],
             [
              0.8888888888888888,
              "#b5de2b"
             ],
             [
              1,
              "#fde725"
             ]
            ],
            "type": "heatmap"
           }
          ],
          "heatmapgl": [
           {
            "colorbar": {
             "outlinewidth": 1,
             "tickcolor": "rgb(36,36,36)",
             "ticks": "outside"
            },
            "colorscale": [
             [
              0,
              "#440154"
             ],
             [
              0.1111111111111111,
              "#482878"
             ],
             [
              0.2222222222222222,
              "#3e4989"
             ],
             [
              0.3333333333333333,
              "#31688e"
             ],
             [
              0.4444444444444444,
              "#26828e"
             ],
             [
              0.5555555555555556,
              "#1f9e89"
             ],
             [
              0.6666666666666666,
              "#35b779"
             ],
             [
              0.7777777777777778,
              "#6ece58"
             ],
             [
              0.8888888888888888,
              "#b5de2b"
             ],
             [
              1,
              "#fde725"
             ]
            ],
            "type": "heatmapgl"
           }
          ],
          "histogram": [
           {
            "marker": {
             "line": {
              "color": "white",
              "width": 0.6
             }
            },
            "type": "histogram"
           }
          ],
          "histogram2d": [
           {
            "colorbar": {
             "outlinewidth": 1,
             "tickcolor": "rgb(36,36,36)",
             "ticks": "outside"
            },
            "colorscale": [
             [
              0,
              "#440154"
             ],
             [
              0.1111111111111111,
              "#482878"
             ],
             [
              0.2222222222222222,
              "#3e4989"
             ],
             [
              0.3333333333333333,
              "#31688e"
             ],
             [
              0.4444444444444444,
              "#26828e"
             ],
             [
              0.5555555555555556,
              "#1f9e89"
             ],
             [
              0.6666666666666666,
              "#35b779"
             ],
             [
              0.7777777777777778,
              "#6ece58"
             ],
             [
              0.8888888888888888,
              "#b5de2b"
             ],
             [
              1,
              "#fde725"
             ]
            ],
            "type": "histogram2d"
           }
          ],
          "histogram2dcontour": [
           {
            "colorbar": {
             "outlinewidth": 1,
             "tickcolor": "rgb(36,36,36)",
             "ticks": "outside"
            },
            "colorscale": [
             [
              0,
              "#440154"
             ],
             [
              0.1111111111111111,
              "#482878"
             ],
             [
              0.2222222222222222,
              "#3e4989"
             ],
             [
              0.3333333333333333,
              "#31688e"
             ],
             [
              0.4444444444444444,
              "#26828e"
             ],
             [
              0.5555555555555556,
              "#1f9e89"
             ],
             [
              0.6666666666666666,
              "#35b779"
             ],
             [
              0.7777777777777778,
              "#6ece58"
             ],
             [
              0.8888888888888888,
              "#b5de2b"
             ],
             [
              1,
              "#fde725"
             ]
            ],
            "type": "histogram2dcontour"
           }
          ],
          "mesh3d": [
           {
            "colorbar": {
             "outlinewidth": 1,
             "tickcolor": "rgb(36,36,36)",
             "ticks": "outside"
            },
            "type": "mesh3d"
           }
          ],
          "parcoords": [
           {
            "line": {
             "colorbar": {
              "outlinewidth": 1,
              "tickcolor": "rgb(36,36,36)",
              "ticks": "outside"
             }
            },
            "type": "parcoords"
           }
          ],
          "pie": [
           {
            "automargin": true,
            "type": "pie"
           }
          ],
          "scatter": [
           {
            "fillpattern": {
             "fillmode": "overlay",
             "size": 10,
             "solidity": 0.2
            },
            "type": "scatter"
           }
          ],
          "scatter3d": [
           {
            "line": {
             "colorbar": {
              "outlinewidth": 1,
              "tickcolor": "rgb(36,36,36)",
              "ticks": "outside"
             }
            },
            "marker": {
             "colorbar": {
              "outlinewidth": 1,
              "tickcolor": "rgb(36,36,36)",
              "ticks": "outside"
             }
            },
            "type": "scatter3d"
           }
          ],
          "scattercarpet": [
           {
            "marker": {
             "colorbar": {
              "outlinewidth": 1,
              "tickcolor": "rgb(36,36,36)",
              "ticks": "outside"
             }
            },
            "type": "scattercarpet"
           }
          ],
          "scattergeo": [
           {
            "marker": {
             "colorbar": {
              "outlinewidth": 1,
              "tickcolor": "rgb(36,36,36)",
              "ticks": "outside"
             }
            },
            "type": "scattergeo"
           }
          ],
          "scattergl": [
           {
            "marker": {
             "colorbar": {
              "outlinewidth": 1,
              "tickcolor": "rgb(36,36,36)",
              "ticks": "outside"
             }
            },
            "type": "scattergl"
           }
          ],
          "scattermapbox": [
           {
            "marker": {
             "colorbar": {
              "outlinewidth": 1,
              "tickcolor": "rgb(36,36,36)",
              "ticks": "outside"
             }
            },
            "type": "scattermapbox"
           }
          ],
          "scatterpolar": [
           {
            "marker": {
             "colorbar": {
              "outlinewidth": 1,
              "tickcolor": "rgb(36,36,36)",
              "ticks": "outside"
             }
            },
            "type": "scatterpolar"
           }
          ],
          "scatterpolargl": [
           {
            "marker": {
             "colorbar": {
              "outlinewidth": 1,
              "tickcolor": "rgb(36,36,36)",
              "ticks": "outside"
             }
            },
            "type": "scatterpolargl"
           }
          ],
          "scatterternary": [
           {
            "marker": {
             "colorbar": {
              "outlinewidth": 1,
              "tickcolor": "rgb(36,36,36)",
              "ticks": "outside"
             }
            },
            "type": "scatterternary"
           }
          ],
          "surface": [
           {
            "colorbar": {
             "outlinewidth": 1,
             "tickcolor": "rgb(36,36,36)",
             "ticks": "outside"
            },
            "colorscale": [
             [
              0,
              "#440154"
             ],
             [
              0.1111111111111111,
              "#482878"
             ],
             [
              0.2222222222222222,
              "#3e4989"
             ],
             [
              0.3333333333333333,
              "#31688e"
             ],
             [
              0.4444444444444444,
              "#26828e"
             ],
             [
              0.5555555555555556,
              "#1f9e89"
             ],
             [
              0.6666666666666666,
              "#35b779"
             ],
             [
              0.7777777777777778,
              "#6ece58"
             ],
             [
              0.8888888888888888,
              "#b5de2b"
             ],
             [
              1,
              "#fde725"
             ]
            ],
            "type": "surface"
           }
          ],
          "table": [
           {
            "cells": {
             "fill": {
              "color": "rgb(237,237,237)"
             },
             "line": {
              "color": "white"
             }
            },
            "header": {
             "fill": {
              "color": "rgb(217,217,217)"
             },
             "line": {
              "color": "white"
             }
            },
            "type": "table"
           }
          ]
         },
         "layout": {
          "annotationdefaults": {
           "arrowhead": 0,
           "arrowwidth": 1
          },
          "autotypenumbers": "strict",
          "coloraxis": {
           "colorbar": {
            "outlinewidth": 1,
            "tickcolor": "rgb(36,36,36)",
            "ticks": "outside"
           }
          },
          "colorscale": {
           "diverging": [
            [
             0,
             "rgb(103,0,31)"
            ],
            [
             0.1,
             "rgb(178,24,43)"
            ],
            [
             0.2,
             "rgb(214,96,77)"
            ],
            [
             0.3,
             "rgb(244,165,130)"
            ],
            [
             0.4,
             "rgb(253,219,199)"
            ],
            [
             0.5,
             "rgb(247,247,247)"
            ],
            [
             0.6,
             "rgb(209,229,240)"
            ],
            [
             0.7,
             "rgb(146,197,222)"
            ],
            [
             0.8,
             "rgb(67,147,195)"
            ],
            [
             0.9,
             "rgb(33,102,172)"
            ],
            [
             1,
             "rgb(5,48,97)"
            ]
           ],
           "sequential": [
            [
             0,
             "#440154"
            ],
            [
             0.1111111111111111,
             "#482878"
            ],
            [
             0.2222222222222222,
             "#3e4989"
            ],
            [
             0.3333333333333333,
             "#31688e"
            ],
            [
             0.4444444444444444,
             "#26828e"
            ],
            [
             0.5555555555555556,
             "#1f9e89"
            ],
            [
             0.6666666666666666,
             "#35b779"
            ],
            [
             0.7777777777777778,
             "#6ece58"
            ],
            [
             0.8888888888888888,
             "#b5de2b"
            ],
            [
             1,
             "#fde725"
            ]
           ],
           "sequentialminus": [
            [
             0,
             "#440154"
            ],
            [
             0.1111111111111111,
             "#482878"
            ],
            [
             0.2222222222222222,
             "#3e4989"
            ],
            [
             0.3333333333333333,
             "#31688e"
            ],
            [
             0.4444444444444444,
             "#26828e"
            ],
            [
             0.5555555555555556,
             "#1f9e89"
            ],
            [
             0.6666666666666666,
             "#35b779"
            ],
            [
             0.7777777777777778,
             "#6ece58"
            ],
            [
             0.8888888888888888,
             "#b5de2b"
            ],
            [
             1,
             "#fde725"
            ]
           ]
          },
          "colorway": [
           "#1F77B4",
           "#FF7F0E",
           "#2CA02C",
           "#D62728",
           "#9467BD",
           "#8C564B",
           "#E377C2",
           "#7F7F7F",
           "#BCBD22",
           "#17BECF"
          ],
          "font": {
           "color": "rgb(36,36,36)"
          },
          "geo": {
           "bgcolor": "white",
           "lakecolor": "white",
           "landcolor": "white",
           "showlakes": true,
           "showland": true,
           "subunitcolor": "white"
          },
          "hoverlabel": {
           "align": "left"
          },
          "hovermode": "closest",
          "mapbox": {
           "style": "light"
          },
          "paper_bgcolor": "white",
          "plot_bgcolor": "white",
          "polar": {
           "angularaxis": {
            "gridcolor": "rgb(232,232,232)",
            "linecolor": "rgb(36,36,36)",
            "showgrid": false,
            "showline": true,
            "ticks": "outside"
           },
           "bgcolor": "white",
           "radialaxis": {
            "gridcolor": "rgb(232,232,232)",
            "linecolor": "rgb(36,36,36)",
            "showgrid": false,
            "showline": true,
            "ticks": "outside"
           }
          },
          "scene": {
           "xaxis": {
            "backgroundcolor": "white",
            "gridcolor": "rgb(232,232,232)",
            "gridwidth": 2,
            "linecolor": "rgb(36,36,36)",
            "showbackground": true,
            "showgrid": false,
            "showline": true,
            "ticks": "outside",
            "zeroline": false,
            "zerolinecolor": "rgb(36,36,36)"
           },
           "yaxis": {
            "backgroundcolor": "white",
            "gridcolor": "rgb(232,232,232)",
            "gridwidth": 2,
            "linecolor": "rgb(36,36,36)",
            "showbackground": true,
            "showgrid": false,
            "showline": true,
            "ticks": "outside",
            "zeroline": false,
            "zerolinecolor": "rgb(36,36,36)"
           },
           "zaxis": {
            "backgroundcolor": "white",
            "gridcolor": "rgb(232,232,232)",
            "gridwidth": 2,
            "linecolor": "rgb(36,36,36)",
            "showbackground": true,
            "showgrid": false,
            "showline": true,
            "ticks": "outside",
            "zeroline": false,
            "zerolinecolor": "rgb(36,36,36)"
           }
          },
          "shapedefaults": {
           "fillcolor": "black",
           "line": {
            "width": 0
           },
           "opacity": 0.3
          },
          "ternary": {
           "aaxis": {
            "gridcolor": "rgb(232,232,232)",
            "linecolor": "rgb(36,36,36)",
            "showgrid": false,
            "showline": true,
            "ticks": "outside"
           },
           "baxis": {
            "gridcolor": "rgb(232,232,232)",
            "linecolor": "rgb(36,36,36)",
            "showgrid": false,
            "showline": true,
            "ticks": "outside"
           },
           "bgcolor": "white",
           "caxis": {
            "gridcolor": "rgb(232,232,232)",
            "linecolor": "rgb(36,36,36)",
            "showgrid": false,
            "showline": true,
            "ticks": "outside"
           }
          },
          "title": {
           "x": 0.05
          },
          "xaxis": {
           "automargin": true,
           "gridcolor": "rgb(232,232,232)",
           "linecolor": "rgb(36,36,36)",
           "showgrid": false,
           "showline": true,
           "ticks": "outside",
           "title": {
            "standoff": 15
           },
           "zeroline": false,
           "zerolinecolor": "rgb(36,36,36)"
          },
          "yaxis": {
           "automargin": true,
           "gridcolor": "rgb(232,232,232)",
           "linecolor": "rgb(36,36,36)",
           "showgrid": false,
           "showline": true,
           "ticks": "outside",
           "title": {
            "standoff": 15
           },
           "zeroline": false,
           "zerolinecolor": "rgb(36,36,36)"
          }
         }
        },
        "width": 1000,
        "xaxis": {
         "anchor": "y",
         "domain": [
          0,
          1
         ],
         "dtick": 0.5,
         "griddash": "dash",
         "range": [
          -2,
          5
         ],
         "showgrid": true,
         "showline": true,
         "tickmode": "linear",
         "tickvals": [
          -2,
          -1,
          0,
          1,
          2,
          3,
          4,
          5
         ],
         "title": {
          "text": "Enrichment level of LIN28A-bound CLIP tags (log<sub>2</sub>)"
         }
        },
        "yaxis": {
         "anchor": "x",
         "domain": [
          0,
          1
         ],
         "dtick": 0.5,
         "griddash": "dash",
         "range": [
          -1,
          1.5
         ],
         "showgrid": true,
         "showline": true,
         "tickmode": "linear",
         "tickvals": [
          -1,
          -0.5,
          0,
          0.5,
          1,
          1.5
         ],
         "title": {
          "text": "Ribisome density change upon <i>Lin28a</i> knockdown (log<sub>2</sub>)"
         }
        }
       }
      },
      "text/html": [
       "<div>                            <div id=\"8dd81a71-4658-4ece-acdc-73726a1527a6\" class=\"plotly-graph-div\" style=\"height:500px; width:1000px;\"></div>            <script type=\"text/javascript\">                require([\"plotly\"], function(Plotly) {                    window.PLOTLYENV=window.PLOTLYENV || {};                                    if (document.getElementById(\"8dd81a71-4658-4ece-acdc-73726a1527a6\")) {                    Plotly.newPlot(                        \"8dd81a71-4658-4ece-acdc-73726a1527a6\",                        [{\"customdata\":[[\"GO:0019838\",10,0.002835851364619815,0.0025634108123471985],[\"GO:0005201\",10,0.031369077088533814,0.0037468808352150514],[\"GO:0006665\",10,0.021660574274169717,0.0067813761514615946],[\"GO:0015662\",13,0.023762314720386625,0.013684735068390151],[\"GO:0006486\",15,0.026696098728846582,0.0014400588646336873],[\"GO:0006754\",15,0.009923195186557673,0.010603237673022818],[\"GO:0051258\",15,0.010255393936595955,0.04393250996878614],[\"GO:0016616\",15,0.02179351436397502,0.02179351436397502],[\"GO:0008652\",18,0.029338293159480087,0.029042483797370254],[\"GO:0007156\",19,0.00392890685350869,0.00014893515785771978],[\"GO:0001503\",20,0.038321645761474184,0.0009146241338106816],[\"GO:0005178\",21,0.03464123916037985,0.0004656364394510715],[\"GO:0006096\",23,4.789469673212262e-05,0.003500457042075249],[\"GO:0006812\",24,0.0024272593697933077,1.8128749128506143e-06],[\"GO:0005793\",26,0.0018239159474445514,0.0018515738995493834],[\"GO:0004930\",27,0.03459238387010844,4.544117877203594e-09],[\"GO:0006814\",29,0.014342893225383638,8.858986147420574e-11],[\"GO:0008201\",29,0.003180248135250891,0.00011785202399621616],[\"GO:0004222\",29,0.00676714980059976,0.0035843093315665723],[\"GO:0030176\",30,0.0002878959986047367,4.263002029203049e-09],[\"GO:0032580\",30,0.019491573358511184,3.282317862521953e-05],[\"GO:0005604\",33,0.009720427610265814,5.532180068571042e-07],[\"GO:0009897\",37,1.6099708214084897e-06,1.791517286796281e-09],[\"GO:0045454\",40,0.013940200979904149,0.0014723634027862798],[\"GO:0005788\",46,1.0350777738402807e-12,4.349345579889208e-14],[\"GO:0016323\",46,0.00010223495763897726,2.013631051687639e-06],[\"GO:0045121\",47,0.01276721055088732,0.0196803547705803],[\"GO:0016829\",52,0.03312667239796982,0.0021539028049317914],[\"GO:0005765\",61,0.0008046697440959152,5.805036626721339e-14],[\"GO:0016757\",61,6.4787902207756325e-06,1.4771950178106133e-08],[\"GO:0042470\",67,0.00566365508591457,0.04887241963729265],[\"GO:0016324\",69,0.007028072309057544,1.2967880460079285e-05],[\"GO:0005887\",70,4.483382854622756e-06,8.372888618378553e-17],[\"GO:0009986\",88,7.1569700406311334e-12,4.0009383955842254e-16],[\"GO:0055085\",97,0.038321645761474184,9.697610264581627e-20],[\"GO:0005792\",97,2.290976741886095e-06,7.392352941109537e-09],[\"GO:0005615\",115,0.00026781661978260624,1.0823899986055902e-20],[\"GO:0006811\",120,0.00020656675113176796,2.2433168815582493e-18],[\"GO:0007155\",120,1.1596438234852252e-05,4.884511180318735e-10],[\"GO:0005624\",145,0.00012615458259592543,6.551688788193894e-07],[\"GO:0005509\",177,3.4030114025391186e-06,8.109867646443444e-08],[\"GO:0000139\",177,3.118308670557504e-09,1.3361970353062207e-16],[\"GO:0004872\",224,2.2343637619365836e-13,1.5044412206741527e-30],[\"GO:0005576\",226,1.9951546056706586e-12,8.416353883740591e-48],[\"GO:0005789\",292,1.4539832445411611e-27,3.6828844627680426e-62],[\"GO:0005794\",453,1.2246689917221959e-08,1.414970179974938e-13],[\"GO:0005783\",510,1.3111502466550327e-36,1.4263134885819737e-86],[\"GO:0003677\",688,0.002522727964917418,2.2458079859935045e-29],[\"GO:0005739\",910,0.00015676661639646848,0.0013298632902283627],[\"GO:0000166\",1168,0.027291372957309577,5.617830332943733e-30],[\"GO:0005737\",2589,9.917849197021433e-17,2.1105160535966086e-77],[\"GO:0005634\",2741,3.2437177253960997e-12,1.2387830087677922e-110]],\"hovertemplate\":\"ClipFoldChange=%{x}\\u003cbr\\u003eRNAdenFoldChange=%{y}\\u003cbr\\u003eGeneNumber=%{customdata[1]}\\u003cbr\\u003eGOterm=%{customdata[0]}\\u003cbr\\u003eClipPval=%{customdata[2]}\\u003cbr\\u003eRNAdenPval=%{customdata[3]}\\u003cbr\\u003elog_ClipPval=%{marker.color}\\u003cextra\\u003e\\u003c\\u002fextra\\u003e\",\"legendgroup\":\"\",\"marker\":{\"color\":[-2.547316535554228,-1.5034982585178494,-1.6643300333618145,-1.6241112563959335,-1.573552200220735,-2.003348466105855,-1.989047652584362,-1.6616727309371262,-1.5325651561022002,-2.4057282673161424,-1.416555847981311,-1.4604065811209233,-4.319712572336655,-2.6148838137581154,-2.7389951793859555,-1.4610195083539559,-1.843363234645923,-2.497538993359578,-2.169594209676752,-3.540764371231537,-1.710153103245605,-2.012314629652528,-5.793181994909836,-1.8557309648438818,-11.9850270168924,-3.9904005786259202,-1.8939039793762702,-1.4798221871720991,-3.0943823280122027,-5.1885060820140065,-2.246903202854506,-2.1531637788695237,-5.348394173346896,-11.14527080075669,-1.416555847981311,-5.639979319768176,-3.572162475658912,-3.6849395809870247,-4.935675380814292,-3.8990969690070836,-5.46813659570245,-8.506080897715213,-12.650846120861742,-11.700023444945632,-26.837440598184852,-7.9119812782334105,-35.88234753900828,-2.598129578537097,-3.804746415238349,-1.563974615565543,-16.00358249953345,-11.488956945964187],\"coloraxis\":\"coloraxis\",\"size\":[10,10,10,13,15,15,15,15,18,19,20,21,23,24,26,27,29,29,29,30,30,33,37,40,46,46,47,52,61,61,67,69,70,88,97,97,115,120,120,145,177,177,224,226,292,453,510,688,910,1168,2589,2741],\"sizemode\":\"area\",\"sizeref\":1.713125,\"symbol\":\"circle\"},\"mode\":\"markers\",\"name\":\"\",\"orientation\":\"v\",\"showlegend\":false,\"x\":[1.604252851134033,1.1850273550525248,1.311943452752376,1.1721024661642632,0.8516269789982561,1.1781998839465948,-1.3745934766441255,-1.3723244702834791,-1.2324071607636258,1.143948344921576,0.9101470234054707,0.8948946958191439,-1.59330708600069,1.0493164256698915,0.9314766943155285,0.5202275725571939,0.7414444978708142,0.6379543356572106,0.7270652488348928,1.1243718366332631,0.7864194533233374,0.5734824358178058,1.0258277084549199,0.7816551026668269,1.2436252377566421,0.8338472778635233,0.5690757171684333,-0.46592465149674217,0.5706972713683345,0.7452594304281841,0.6043925679026203,0.65727672722645,0.7152561682050631,1.012361002883993,0.5407024614100624,0.9399488840781629,0.41646578015389846,0.6055513103136005,0.6495391166497322,0.4443138647717032,0.6102361519796742,0.502806143645671,0.7601987828669594,0.6025931341885622,0.926718743496073,0.369476899801102,0.8302542717475261,-0.28796968661854955,-0.27965660036828294,-0.08432406778464821,-0.309420489895797,-0.3303580702314047],\"xaxis\":\"x\",\"y\":[0.8156987245009455,0.8158216521533858,0.7509725723063454,0.5485267142908727,0.6573019625622452,0.5136705764650853,-0.55864203791517,-0.593164999132421,-0.5251968341524327,0.5528608894932556,0.6598802344184317,0.566106610147648,-0.5571430918710034,0.6276209149577503,0.4311922436542359,0.6934236089445995,0.7112447877889647,0.4448954980969507,0.42270606450356674,0.6759396650020755,0.5962207706938325,0.6148666624283816,0.6373533175784702,0.4229810407543002,0.6609715737242475,0.48879891024791317,0.3085483076481771,-0.3684491531739684,0.6587006493910985,0.541228883853786,0.29271103557644584,0.39443495482674745,0.6148933621053728,0.5303672010991557,0.5567202544671359,0.35073779821608553,0.5117118517659331,0.4750111030477483,0.4062349734715697,0.28313134796638245,0.267298767547882,0.3791698249534742,0.4743251191642228,0.5658515839485223,0.5560447144263259,0.24800197675039093,0.5151402799158165,-0.3158372341592152,0.02695860485175567,-0.23874036033662732,-0.296260880297681,-0.3533451512426976],\"yaxis\":\"y\",\"type\":\"scatter\"}],                        {\"template\":{\"data\":{\"barpolar\":[{\"marker\":{\"line\":{\"color\":\"white\",\"width\":0.5},\"pattern\":{\"fillmode\":\"overlay\",\"size\":10,\"solidity\":0.2}},\"type\":\"barpolar\"}],\"bar\":[{\"error_x\":{\"color\":\"rgb(36,36,36)\"},\"error_y\":{\"color\":\"rgb(36,36,36)\"},\"marker\":{\"line\":{\"color\":\"white\",\"width\":0.5},\"pattern\":{\"fillmode\":\"overlay\",\"size\":10,\"solidity\":0.2}},\"type\":\"bar\"}],\"carpet\":[{\"aaxis\":{\"endlinecolor\":\"rgb(36,36,36)\",\"gridcolor\":\"white\",\"linecolor\":\"white\",\"minorgridcolor\":\"white\",\"startlinecolor\":\"rgb(36,36,36)\"},\"baxis\":{\"endlinecolor\":\"rgb(36,36,36)\",\"gridcolor\":\"white\",\"linecolor\":\"white\",\"minorgridcolor\":\"white\",\"startlinecolor\":\"rgb(36,36,36)\"},\"type\":\"carpet\"}],\"choropleth\":[{\"colorbar\":{\"outlinewidth\":1,\"tickcolor\":\"rgb(36,36,36)\",\"ticks\":\"outside\"},\"type\":\"choropleth\"}],\"contourcarpet\":[{\"colorbar\":{\"outlinewidth\":1,\"tickcolor\":\"rgb(36,36,36)\",\"ticks\":\"outside\"},\"type\":\"contourcarpet\"}],\"contour\":[{\"colorbar\":{\"outlinewidth\":1,\"tickcolor\":\"rgb(36,36,36)\",\"ticks\":\"outside\"},\"colorscale\":[[0.0,\"#440154\"],[0.1111111111111111,\"#482878\"],[0.2222222222222222,\"#3e4989\"],[0.3333333333333333,\"#31688e\"],[0.4444444444444444,\"#26828e\"],[0.5555555555555556,\"#1f9e89\"],[0.6666666666666666,\"#35b779\"],[0.7777777777777778,\"#6ece58\"],[0.8888888888888888,\"#b5de2b\"],[1.0,\"#fde725\"]],\"type\":\"contour\"}],\"heatmapgl\":[{\"colorbar\":{\"outlinewidth\":1,\"tickcolor\":\"rgb(36,36,36)\",\"ticks\":\"outside\"},\"colorscale\":[[0.0,\"#440154\"],[0.1111111111111111,\"#482878\"],[0.2222222222222222,\"#3e4989\"],[0.3333333333333333,\"#31688e\"],[0.4444444444444444,\"#26828e\"],[0.5555555555555556,\"#1f9e89\"],[0.6666666666666666,\"#35b779\"],[0.7777777777777778,\"#6ece58\"],[0.8888888888888888,\"#b5de2b\"],[1.0,\"#fde725\"]],\"type\":\"heatmapgl\"}],\"heatmap\":[{\"colorbar\":{\"outlinewidth\":1,\"tickcolor\":\"rgb(36,36,36)\",\"ticks\":\"outside\"},\"colorscale\":[[0.0,\"#440154\"],[0.1111111111111111,\"#482878\"],[0.2222222222222222,\"#3e4989\"],[0.3333333333333333,\"#31688e\"],[0.4444444444444444,\"#26828e\"],[0.5555555555555556,\"#1f9e89\"],[0.6666666666666666,\"#35b779\"],[0.7777777777777778,\"#6ece58\"],[0.8888888888888888,\"#b5de2b\"],[1.0,\"#fde725\"]],\"type\":\"heatmap\"}],\"histogram2dcontour\":[{\"colorbar\":{\"outlinewidth\":1,\"tickcolor\":\"rgb(36,36,36)\",\"ticks\":\"outside\"},\"colorscale\":[[0.0,\"#440154\"],[0.1111111111111111,\"#482878\"],[0.2222222222222222,\"#3e4989\"],[0.3333333333333333,\"#31688e\"],[0.4444444444444444,\"#26828e\"],[0.5555555555555556,\"#1f9e89\"],[0.6666666666666666,\"#35b779\"],[0.7777777777777778,\"#6ece58\"],[0.8888888888888888,\"#b5de2b\"],[1.0,\"#fde725\"]],\"type\":\"histogram2dcontour\"}],\"histogram2d\":[{\"colorbar\":{\"outlinewidth\":1,\"tickcolor\":\"rgb(36,36,36)\",\"ticks\":\"outside\"},\"colorscale\":[[0.0,\"#440154\"],[0.1111111111111111,\"#482878\"],[0.2222222222222222,\"#3e4989\"],[0.3333333333333333,\"#31688e\"],[0.4444444444444444,\"#26828e\"],[0.5555555555555556,\"#1f9e89\"],[0.6666666666666666,\"#35b779\"],[0.7777777777777778,\"#6ece58\"],[0.8888888888888888,\"#b5de2b\"],[1.0,\"#fde725\"]],\"type\":\"histogram2d\"}],\"histogram\":[{\"marker\":{\"line\":{\"color\":\"white\",\"width\":0.6}},\"type\":\"histogram\"}],\"mesh3d\":[{\"colorbar\":{\"outlinewidth\":1,\"tickcolor\":\"rgb(36,36,36)\",\"ticks\":\"outside\"},\"type\":\"mesh3d\"}],\"parcoords\":[{\"line\":{\"colorbar\":{\"outlinewidth\":1,\"tickcolor\":\"rgb(36,36,36)\",\"ticks\":\"outside\"}},\"type\":\"parcoords\"}],\"pie\":[{\"automargin\":true,\"type\":\"pie\"}],\"scatter3d\":[{\"line\":{\"colorbar\":{\"outlinewidth\":1,\"tickcolor\":\"rgb(36,36,36)\",\"ticks\":\"outside\"}},\"marker\":{\"colorbar\":{\"outlinewidth\":1,\"tickcolor\":\"rgb(36,36,36)\",\"ticks\":\"outside\"}},\"type\":\"scatter3d\"}],\"scattercarpet\":[{\"marker\":{\"colorbar\":{\"outlinewidth\":1,\"tickcolor\":\"rgb(36,36,36)\",\"ticks\":\"outside\"}},\"type\":\"scattercarpet\"}],\"scattergeo\":[{\"marker\":{\"colorbar\":{\"outlinewidth\":1,\"tickcolor\":\"rgb(36,36,36)\",\"ticks\":\"outside\"}},\"type\":\"scattergeo\"}],\"scattergl\":[{\"marker\":{\"colorbar\":{\"outlinewidth\":1,\"tickcolor\":\"rgb(36,36,36)\",\"ticks\":\"outside\"}},\"type\":\"scattergl\"}],\"scattermapbox\":[{\"marker\":{\"colorbar\":{\"outlinewidth\":1,\"tickcolor\":\"rgb(36,36,36)\",\"ticks\":\"outside\"}},\"type\":\"scattermapbox\"}],\"scatterpolargl\":[{\"marker\":{\"colorbar\":{\"outlinewidth\":1,\"tickcolor\":\"rgb(36,36,36)\",\"ticks\":\"outside\"}},\"type\":\"scatterpolargl\"}],\"scatterpolar\":[{\"marker\":{\"colorbar\":{\"outlinewidth\":1,\"tickcolor\":\"rgb(36,36,36)\",\"ticks\":\"outside\"}},\"type\":\"scatterpolar\"}],\"scatter\":[{\"fillpattern\":{\"fillmode\":\"overlay\",\"size\":10,\"solidity\":0.2},\"type\":\"scatter\"}],\"scatterternary\":[{\"marker\":{\"colorbar\":{\"outlinewidth\":1,\"tickcolor\":\"rgb(36,36,36)\",\"ticks\":\"outside\"}},\"type\":\"scatterternary\"}],\"surface\":[{\"colorbar\":{\"outlinewidth\":1,\"tickcolor\":\"rgb(36,36,36)\",\"ticks\":\"outside\"},\"colorscale\":[[0.0,\"#440154\"],[0.1111111111111111,\"#482878\"],[0.2222222222222222,\"#3e4989\"],[0.3333333333333333,\"#31688e\"],[0.4444444444444444,\"#26828e\"],[0.5555555555555556,\"#1f9e89\"],[0.6666666666666666,\"#35b779\"],[0.7777777777777778,\"#6ece58\"],[0.8888888888888888,\"#b5de2b\"],[1.0,\"#fde725\"]],\"type\":\"surface\"}],\"table\":[{\"cells\":{\"fill\":{\"color\":\"rgb(237,237,237)\"},\"line\":{\"color\":\"white\"}},\"header\":{\"fill\":{\"color\":\"rgb(217,217,217)\"},\"line\":{\"color\":\"white\"}},\"type\":\"table\"}]},\"layout\":{\"annotationdefaults\":{\"arrowhead\":0,\"arrowwidth\":1},\"autotypenumbers\":\"strict\",\"coloraxis\":{\"colorbar\":{\"outlinewidth\":1,\"tickcolor\":\"rgb(36,36,36)\",\"ticks\":\"outside\"}},\"colorscale\":{\"diverging\":[[0.0,\"rgb(103,0,31)\"],[0.1,\"rgb(178,24,43)\"],[0.2,\"rgb(214,96,77)\"],[0.3,\"rgb(244,165,130)\"],[0.4,\"rgb(253,219,199)\"],[0.5,\"rgb(247,247,247)\"],[0.6,\"rgb(209,229,240)\"],[0.7,\"rgb(146,197,222)\"],[0.8,\"rgb(67,147,195)\"],[0.9,\"rgb(33,102,172)\"],[1.0,\"rgb(5,48,97)\"]],\"sequential\":[[0.0,\"#440154\"],[0.1111111111111111,\"#482878\"],[0.2222222222222222,\"#3e4989\"],[0.3333333333333333,\"#31688e\"],[0.4444444444444444,\"#26828e\"],[0.5555555555555556,\"#1f9e89\"],[0.6666666666666666,\"#35b779\"],[0.7777777777777778,\"#6ece58\"],[0.8888888888888888,\"#b5de2b\"],[1.0,\"#fde725\"]],\"sequentialminus\":[[0.0,\"#440154\"],[0.1111111111111111,\"#482878\"],[0.2222222222222222,\"#3e4989\"],[0.3333333333333333,\"#31688e\"],[0.4444444444444444,\"#26828e\"],[0.5555555555555556,\"#1f9e89\"],[0.6666666666666666,\"#35b779\"],[0.7777777777777778,\"#6ece58\"],[0.8888888888888888,\"#b5de2b\"],[1.0,\"#fde725\"]]},\"colorway\":[\"#1F77B4\",\"#FF7F0E\",\"#2CA02C\",\"#D62728\",\"#9467BD\",\"#8C564B\",\"#E377C2\",\"#7F7F7F\",\"#BCBD22\",\"#17BECF\"],\"font\":{\"color\":\"rgb(36,36,36)\"},\"geo\":{\"bgcolor\":\"white\",\"lakecolor\":\"white\",\"landcolor\":\"white\",\"showlakes\":true,\"showland\":true,\"subunitcolor\":\"white\"},\"hoverlabel\":{\"align\":\"left\"},\"hovermode\":\"closest\",\"mapbox\":{\"style\":\"light\"},\"paper_bgcolor\":\"white\",\"plot_bgcolor\":\"white\",\"polar\":{\"angularaxis\":{\"gridcolor\":\"rgb(232,232,232)\",\"linecolor\":\"rgb(36,36,36)\",\"showgrid\":false,\"showline\":true,\"ticks\":\"outside\"},\"bgcolor\":\"white\",\"radialaxis\":{\"gridcolor\":\"rgb(232,232,232)\",\"linecolor\":\"rgb(36,36,36)\",\"showgrid\":false,\"showline\":true,\"ticks\":\"outside\"}},\"scene\":{\"xaxis\":{\"backgroundcolor\":\"white\",\"gridcolor\":\"rgb(232,232,232)\",\"gridwidth\":2,\"linecolor\":\"rgb(36,36,36)\",\"showbackground\":true,\"showgrid\":false,\"showline\":true,\"ticks\":\"outside\",\"zeroline\":false,\"zerolinecolor\":\"rgb(36,36,36)\"},\"yaxis\":{\"backgroundcolor\":\"white\",\"gridcolor\":\"rgb(232,232,232)\",\"gridwidth\":2,\"linecolor\":\"rgb(36,36,36)\",\"showbackground\":true,\"showgrid\":false,\"showline\":true,\"ticks\":\"outside\",\"zeroline\":false,\"zerolinecolor\":\"rgb(36,36,36)\"},\"zaxis\":{\"backgroundcolor\":\"white\",\"gridcolor\":\"rgb(232,232,232)\",\"gridwidth\":2,\"linecolor\":\"rgb(36,36,36)\",\"showbackground\":true,\"showgrid\":false,\"showline\":true,\"ticks\":\"outside\",\"zeroline\":false,\"zerolinecolor\":\"rgb(36,36,36)\"}},\"shapedefaults\":{\"fillcolor\":\"black\",\"line\":{\"width\":0},\"opacity\":0.3},\"ternary\":{\"aaxis\":{\"gridcolor\":\"rgb(232,232,232)\",\"linecolor\":\"rgb(36,36,36)\",\"showgrid\":false,\"showline\":true,\"ticks\":\"outside\"},\"baxis\":{\"gridcolor\":\"rgb(232,232,232)\",\"linecolor\":\"rgb(36,36,36)\",\"showgrid\":false,\"showline\":true,\"ticks\":\"outside\"},\"bgcolor\":\"white\",\"caxis\":{\"gridcolor\":\"rgb(232,232,232)\",\"linecolor\":\"rgb(36,36,36)\",\"showgrid\":false,\"showline\":true,\"ticks\":\"outside\"}},\"title\":{\"x\":0.05},\"xaxis\":{\"automargin\":true,\"gridcolor\":\"rgb(232,232,232)\",\"linecolor\":\"rgb(36,36,36)\",\"showgrid\":false,\"showline\":true,\"ticks\":\"outside\",\"title\":{\"standoff\":15},\"zeroline\":false,\"zerolinecolor\":\"rgb(36,36,36)\"},\"yaxis\":{\"automargin\":true,\"gridcolor\":\"rgb(232,232,232)\",\"linecolor\":\"rgb(36,36,36)\",\"showgrid\":false,\"showline\":true,\"ticks\":\"outside\",\"title\":{\"standoff\":15},\"zeroline\":false,\"zerolinecolor\":\"rgb(36,36,36)\"}}},\"xaxis\":{\"anchor\":\"y\",\"domain\":[0.0,1.0],\"title\":{\"text\":\"Enrichment level of LIN28A-bound CLIP tags (log\\u003csub\\u003e2\\u003c\\u002fsub\\u003e)\"},\"range\":[-2.0,5.0],\"griddash\":\"dash\",\"tickvals\":[-2,-1,0,1,2,3,4,5],\"tickmode\":\"linear\",\"dtick\":0.5,\"showgrid\":true,\"showline\":true},\"yaxis\":{\"anchor\":\"x\",\"domain\":[0.0,1.0],\"title\":{\"text\":\"Ribisome density change upon \\u003ci\\u003eLin28a\\u003c\\u002fi\\u003e knockdown (log\\u003csub\\u003e2\\u003c\\u002fsub\\u003e)\"},\"range\":[-1.0,1.5],\"griddash\":\"dash\",\"tickvals\":[-1.0,-0.5,0.0,0.5,1.0,1.5],\"tickmode\":\"linear\",\"dtick\":0.5,\"showgrid\":true,\"showline\":true},\"coloraxis\":{\"colorbar\":{\"title\":{\"text\":\"Term-specific enrichment confidence (false discovery rate)\",\"side\":\"right\"},\"ticktext\":[\"10\\u003csup\\u003e0\\u003c\\u002fsup\\u003e\",\"10\\u003csup\\u003e-2\\u003c\\u002fsup\\u003e\",\"10\\u003csup\\u003e-4\\u003c\\u002fsup\\u003e\",\"10\\u003csup\\u003e-6\\u003c\\u002fsup\\u003e\",\"10\\u003csup\\u003e-8\\u003c\\u002fsup\\u003e\",\"10\\u003csup\\u003e-10\\u003c\\u002fsup\\u003e\",\"10\\u003csup\\u003e-12\\u003c\\u002fsup\\u003e\",\"10\\u003csup\\u003e-14\\u003c\\u002fsup\\u003e\",\"10\\u003csup\\u003e-16\\u003c\\u002fsup\\u003e\",\"10\\u003csup\\u003e-18\\u003c\\u002fsup\\u003e\",\"10\\u003csup\\u003e-20\\u003c\\u002fsup\\u003e\"],\"len\":1.1,\"thickness\":20},\"colorscale\":[[0.0,\"rgb(128,0,38)\"],[0.125,\"rgb(189,0,38)\"],[0.25,\"rgb(227,26,28)\"],[0.375,\"rgb(252,78,42)\"],[0.5,\"rgb(253,141,60)\"],[0.625,\"rgb(254,178,76)\"],[0.75,\"rgb(254,217,118)\"],[0.875,\"rgb(255,237,160)\"],[1.0,\"rgb(255,255,204)\"]]},\"legend\":{\"tracegroupgap\":0,\"itemsizing\":\"constant\"},\"margin\":{\"t\":60},\"font\":{\"size\":10},\"width\":1000,\"height\":500,\"annotations\":[{\"ax\":150,\"ay\":-30,\"bordercolor\":\"black\",\"borderwidth\":1,\"showarrow\":true,\"text\":\"endoplasmic reticulum lumen(46)\\u003cbr\\u003e C=1.0x10\\u207b\\u00b9\\u00b2, R=4.3x10\\u207b\\u00b9\\u2074\",\"x\":1.2436252377566421,\"y\":0.6609715737242475},{\"ax\":230,\"ay\":100,\"bordercolor\":\"black\",\"borderwidth\":1,\"showarrow\":true,\"text\":\"cell surface(88)\\u003cbr\\u003e C=7.2x10\\u207b\\u00b9\\u00b2, R=4.0x10\\u207b\\u00b9\\u2076\",\"x\":1.012361002883993,\"y\":0.5303672010991557},{\"ax\":80,\"ay\":56,\"bordercolor\":\"black\",\"borderwidth\":1,\"showarrow\":true,\"text\":\"calcium ion binding(177)\\u003cbr\\u003e C=3.4x10\\u207b\\u2076, R=8.1x10\\u207b\\u2078\",\"x\":0.6102361519796742,\"y\":0.267298767547882},{\"ax\":-100,\"ay\":-60,\"bordercolor\":\"black\",\"borderwidth\":1,\"showarrow\":true,\"text\":\"extracellular region(226)\\u003cbr\\u003e C=2.0x10\\u207b\\u00b9\\u00b2, R=8.4x10\\u207b\\u2074\\u2078\",\"x\":0.6025931341885622,\"y\":0.5658515839485223},{\"ax\":200,\"ay\":25,\"bordercolor\":\"black\",\"borderwidth\":1,\"showarrow\":true,\"text\":\"endoplasmic reticulum membrane(292)\\u003cbr\\u003e C=1.5x10\\u207b\\u00b2\\u2077, R=3.7x10\\u207b\\u2076\\u00b2\",\"x\":0.926718743496073,\"y\":0.5560447144263259},{\"ax\":40,\"ay\":100,\"bordercolor\":\"black\",\"borderwidth\":1,\"showarrow\":true,\"text\":\"Golgi apparatus(453)\\u003cbr\\u003e C=1.2x10\\u207b\\u2078, R=1.4x10\\u207b\\u00b9\\u00b3\",\"x\":0.369476899801102,\"y\":0.24800197675039093},{\"ax\":30,\"ay\":-70,\"bordercolor\":\"black\",\"borderwidth\":1,\"showarrow\":true,\"text\":\"endoplasmic reticulum(510)\\u003cbr\\u003e C=1.3x10\\u207b\\u00b3\\u2076, R=1.4x10\\u207b\\u2078\\u2076\",\"x\":0.8302542717475261,\"y\":0.5151402799158165},{\"ax\":-70,\"ay\":-50,\"bordercolor\":\"black\",\"borderwidth\":1,\"showarrow\":true,\"text\":\"mitochondrion(910)\\u003cbr\\u003e C=1.6x10\\u207b\\u2074, R=1.3x10\\u207b\\u00b3\",\"x\":-0.27965660036828294,\"y\":0.02695860485175567},{\"ax\":-80,\"ay\":-30,\"bordercolor\":\"black\",\"borderwidth\":1,\"showarrow\":true,\"text\":\"cytoplasm(2589)\\u003cbr\\u003e C=9.9x10\\u207b\\u00b9\\u2077, R=2.1x10\\u207b\\u2077\\u2077\",\"x\":-0.309420489895797,\"y\":-0.296260880297681},{\"ax\":-30,\"ay\":50,\"bordercolor\":\"black\",\"borderwidth\":1,\"showarrow\":true,\"text\":\"nucleus(2741)\\u003cbr\\u003e C=3.2x10\\u207b\\u00b9\\u00b2, R=1.2x10\\u207b\\u00b9\\u00b9\\u2070\",\"x\":-0.3303580702314047,\"y\":-0.3533451512426976}]},                        {\"responsive\": true}                    ).then(function(){\n",
       "                            \n",
       "var gd = document.getElementById('8dd81a71-4658-4ece-acdc-73726a1527a6');\n",
       "var x = new MutationObserver(function (mutations, observer) {{\n",
       "        var display = window.getComputedStyle(gd).display;\n",
       "        if (!display || display === 'none') {{\n",
       "            console.log([gd, 'removed!']);\n",
       "            Plotly.purge(gd);\n",
       "            observer.disconnect();\n",
       "        }}\n",
       "}});\n",
       "\n",
       "// Listen for the removal of the full notebook cells\n",
       "var notebookContainer = gd.closest('#notebook-container');\n",
       "if (notebookContainer) {{\n",
       "    x.observe(notebookContainer, {childList: true});\n",
       "}}\n",
       "\n",
       "// Listen for the clearing of the current output cell\n",
       "var outputEl = gd.closest('.output');\n",
       "if (outputEl) {{\n",
       "    x.observe(outputEl, {childList: true});\n",
       "}}\n",
       "\n",
       "                        })                };                });            </script>        </div>"
      ]
     },
     "metadata": {},
     "output_type": "display_data"
    }
   ],
   "source": [
    "fig=px.scatter(GOResultToPlot, x='ClipFoldChange', y=\"RNAdenFoldChange\", \n",
    "               size=\"GeneNumber\", color = 'log_ClipPval', \n",
    "               color_continuous_scale='YlOrRd_r'\n",
    "               ,template='simple_white', size_max=40,\n",
    "               hover_data=['GOterm', 'GeneNumber', 'ClipFoldChange', 'RNAdenFoldChange', 'ClipPval', 'RNAdenPval'],)\n",
    "\n",
    "fig.update_layout(\n",
    "    coloraxis_colorbar=dict(\n",
    "        title=dict(\n",
    "            text=\"Term-specific enrichment confidence (false discovery rate)\",\n",
    "            side=\"right\"\n",
    "        ),\n",
    "        ticktext=[f\"10<sup>{-i}</sup>\" for i in range(0, 21, 2)],\n",
    "        len=1.1,\n",
    "        thickness=20,\n",
    "    ),\n",
    "    width=1000, height=500,\n",
    "    font=dict(\n",
    "        size=10\n",
    "    )\n",
    ")\n",
    "fig.update_xaxes(range=[-2.0, 5.0],griddash='dash', tickvals=list(range(-2, 6)), tickmode=\"linear\", dtick=0.5, title_text='Enrichment level of LIN28A-bound CLIP tags (log<sub>2</sub>)',\n",
    "                 showgrid=True, showline=True)\n",
    "fig.update_yaxes(range=[-1.0, 1.5],griddash='dash', tickvals=[-1.0, -0.5, 0.0, 0.5, 1.0, 1.5], tickmode=\"linear\", dtick=0.5, title_text='Ribisome density change upon <i>Lin28a</i> knockdown (log<sub>2</sub>)',\n",
    "                 showgrid=True, showline=True)\n",
    "\n",
    "# annotation\n",
    "offsets = {\n",
    "    \"x\": [-0.1, 0.1, -0.1, 0.1],\n",
    "    \"y\": [-0.1, 0.1, 0.1, -0.1]\n",
    "}\n",
    "offset_idx = 0\n",
    "for i, row in GOResultToPlot.iterrows():\n",
    "    if row['GOterm'] in GOtoAnnotate:\n",
    "        fig.add_annotation(x=GOResultToPlot['ClipFoldChange'][i], y=GOResultToPlot['RNAdenFoldChange'][i], \n",
    "                           text=f\"{GOtoAnnotate[row['GOterm']]}({row['GeneNumber']})<br> C={format_number_scientific(row['ClipPval'])}, R={format_number_scientific(row['RNAdenPval'])}\",\n",
    "                           showarrow=True,\n",
    "                           bordercolor='black',\n",
    "                           borderwidth=1,\n",
    "                           ax=ax_ay[row['GOterm']][0], ay=ax_ay[row['GOterm']][1])\n",
    "        offset_idx += 1\n",
    "fig.show()"
   ]
  },
  {
   "cell_type": "code",
   "execution_count": null,
   "metadata": {},
   "outputs": [],
   "source": []
  }
 ],
 "metadata": {
  "kernelspec": {
   "display_name": "bioinfo1",
   "language": "python",
   "name": "python3"
  },
  "language_info": {
   "codemirror_mode": {
    "name": "ipython",
    "version": 3
   },
   "file_extension": ".py",
   "mimetype": "text/x-python",
   "name": "python",
   "nbconvert_exporter": "python",
   "pygments_lexer": "ipython3",
   "version": "3.11.3"
  }
 },
 "nbformat": 4,
 "nbformat_minor": 2
}
